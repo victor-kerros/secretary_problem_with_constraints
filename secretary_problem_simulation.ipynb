{
 "cells": [
  {
   "cell_type": "markdown",
   "id": "de9246b0-7602-4b6c-a4a7-0bb4385e99a9",
   "metadata": {
    "tags": []
   },
   "source": [
    "# Problème du secrétaire\n",
    "\n",
    "## 1. Cadre du problème\n",
    "\n",
    "Dans le cadre du Séminaire de Modélisation Statistique, nous avons assisté à **une intervention de Vianney Perchet (CREST, Criteo) sur les algorithmes de matching**. Nous avons souhaité travailler sur **le problème du secrétaire** aussi appelé la « règle des 37 % » qui nous avait été présenté en interlude.\n",
    "\n",
    "Le problème du secrétaire est le suivant : étant donné n nombres qui arrivent les uns après les autres et dans un ordre aléatoire, quelle est **la stratégie qui maximise la probabilité de sélectionner le plus élevé** ? Ce problème tient au fait que la décision d’accepter ou non un nombre doit être faite immédiatement et de manière irrévocable, sans connaître les nombres qui arrivent par la suite.\n",
    "\n",
    "Une **stratégie naïve** serait de sélectionner le premier nombre : la probabilité que ça soit le plus élevé est de 1/n ! Cependant, **on peut maximiser cette probabilité** jusqu’à **la constante 1/e, au moins** : il s’agit alors d’observer un échantillon composé des n/e premiers nombres (soit 37 % des nombres) puis de sélectionner ensuite le premier nombre supérieur au maximum de l’échantillon. Avec cette stratégie, si le maximum est dans l’échantillon, alors on sélectionne le dernier nombre et on a perdu. En revanche, si le maximum n’est pas dans l’échantillon mais que le deuxième plus grand y est, alors on a gagné.\n",
    "\n",
    "Nous souhaitons **introduire des contraintes à ce problème** afin de **redéfinir la stratégie optimale qui permet de maximiser la probabilité de sélectionner le meilleur candidat**. En effet, un cas d’usage du problème du secrétaire est **le recrutement** : les candidats peuvent être représentés par des nombres qui reflètent un niveau de compétence, par exemple. Or, dans la réalité, les entreprises composent aussi avec **des contraintes de diversité ou budgétaires**. De fait, il y a un **coût d’opportunité** à ne pas avoir de diversité (l’entreprise perd en créativité, la marque employeur est affectée, etc.) ou à recruter un candidat avec des prétentions salariales trop fortes (inégalités salariales dans l’entreprise, moins de capacité de recrutement pour les prochains besoins)."
   ]
  },
  {
   "cell_type": "markdown",
   "id": "3361eb7b-9ecf-46bb-a087-af2efc423f4c",
   "metadata": {},
   "source": [
    "## 2. Etat de l'art\n",
    "\n",
    "### 2.1. Démonstration du problème du secrétaire\n",
    "\n",
    "*Montrer la règle des 37 %*\n",
    "\n",
    "### 2.2. k-Secretary-Problem\n",
    "\n",
    "*Sélectionner au moins / au plus k candidats -> maximiser une fonction convexe*"
   ]
  }
 ],
 "metadata": {
  "kernelspec": {
   "display_name": "Python 3 (ipykernel)",
   "language": "python",
   "name": "python3"
  },
  "language_info": {
   "codemirror_mode": {
    "name": "ipython",
    "version": 3
   },
   "file_extension": ".py",
   "mimetype": "text/x-python",
   "name": "python",
   "nbconvert_exporter": "python",
   "pygments_lexer": "ipython3",
   "version": "3.9.7"
  }
 },
 "nbformat": 4,
 "nbformat_minor": 5
}
